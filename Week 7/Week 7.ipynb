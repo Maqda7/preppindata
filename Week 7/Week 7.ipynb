{
 "cells": [
  {
   "cell_type": "code",
   "execution_count": 49,
   "metadata": {},
   "outputs": [],
   "source": [
    "import pandas as pd"
   ]
  },
  {
   "cell_type": "code",
   "execution_count": 50,
   "metadata": {},
   "outputs": [
    {
     "data": {
      "text/plain": [
       "'\\n- Input the data\\n- For the Transaction Path table:\\n    - Make sure field naming convention matches the other tables\\n        i.e. instead of Account_From it should be Account From\\n- For the Account Information table:\\n    - Make sure there are no null values in the Account Holder ID\\n    - Ensure there is one row per Account Holder ID\\n        Joint accounts will have 2 Account Holders, we want a row for each of them\\n- For the Account Holders table:\\n    - Make sure the phone numbers start with 07\\n- Bring the tables together\\n- Filter out cancelled transactions \\n- Filter to transactions greater than £1,000 in value \\n- Filter out Platinum accounts\\nOutput the data\\n'"
      ]
     },
     "execution_count": 50,
     "metadata": {},
     "output_type": "execute_result"
    }
   ],
   "source": [
    "\"\"\"\n",
    "- Input the data\n",
    "- For the Transaction Path table:\n",
    "    - Make sure field naming convention matches the other tables\n",
    "        i.e. instead of Account_From it should be Account From\n",
    "- For the Account Information table:\n",
    "    - Make sure there are no null values in the Account Holder ID\n",
    "    - Ensure there is one row per Account Holder ID\n",
    "        Joint accounts will have 2 Account Holders, we want a row for each of them\n",
    "- For the Account Holders table:\n",
    "    - Make sure the phone numbers start with 07\n",
    "- Bring the tables together\n",
    "- Filter out cancelled transactions \n",
    "- Filter to transactions greater than £1,000 in value \n",
    "- Filter out Platinum accounts\n",
    "Output the data\n",
    "\"\"\""
   ]
  },
  {
   "cell_type": "code",
   "execution_count": 51,
   "metadata": {},
   "outputs": [],
   "source": [
    "trans_detail = pd.read_csv(\"Transaction Detail.csv\")\n",
    "trans_path = pd.read_csv(\"Transaction Path.csv\")\n",
    "accnt_holders = pd.read_csv(\"Account Holders.csv\")\n",
    "accnt_info = pd.read_csv(\"Account Information.csv\")"
   ]
  },
  {
   "cell_type": "code",
   "execution_count": 52,
   "metadata": {},
   "outputs": [],
   "source": [
    "#Rename trans_path columns\n",
    "trans_path.rename({'Account_To': 'Account To', 'Account_From': 'Account From'}, axis =1, inplace= True)"
   ]
  },
  {
   "cell_type": "code",
   "execution_count": 53,
   "metadata": {},
   "outputs": [
    {
     "data": {
      "text/plain": [
       "False    3000\n",
       "Name: Account Holder ID, dtype: int64"
      ]
     },
     "execution_count": 53,
     "metadata": {},
     "output_type": "execute_result"
    }
   ],
   "source": [
    "accnt_info['Account Holder ID'].isnull().value_counts()"
   ]
  },
  {
   "cell_type": "code",
   "execution_count": 54,
   "metadata": {},
   "outputs": [
    {
     "data": {
      "text/plain": [
       "False    3000\n",
       "Name: Account Holder ID, dtype: int64"
      ]
     },
     "execution_count": 54,
     "metadata": {},
     "output_type": "execute_result"
    }
   ],
   "source": [
    "accnt_info['Account Holder ID'].duplicated().value_counts()"
   ]
  },
  {
   "cell_type": "code",
   "execution_count": 55,
   "metadata": {},
   "outputs": [
    {
     "data": {
      "text/plain": [
       "False    3072\n",
       "Name: Account Holder ID, dtype: int64"
      ]
     },
     "execution_count": 55,
     "metadata": {},
     "output_type": "execute_result"
    }
   ],
   "source": [
    "accnt_holders['Account Holder ID'].duplicated().value_counts()"
   ]
  },
  {
   "cell_type": "code",
   "execution_count": 56,
   "metadata": {},
   "outputs": [
    {
     "data": {
      "text/plain": [
       "True    3072\n",
       "Name: Contact Number, dtype: int64"
      ]
     },
     "execution_count": 56,
     "metadata": {},
     "output_type": "execute_result"
    }
   ],
   "source": [
    "accnt_holders['Contact Number'].astype(str).str.startswith('7').value_counts()"
   ]
  },
  {
   "cell_type": "code",
   "execution_count": 57,
   "metadata": {},
   "outputs": [],
   "source": [
    "transactions = pd.merge(trans_path, right = trans_detail,on= 'Transaction ID', how='left')"
   ]
  },
  {
   "cell_type": "code",
   "execution_count": 58,
   "metadata": {},
   "outputs": [
    {
     "data": {
      "text/html": [
       "<div>\n",
       "<style scoped>\n",
       "    .dataframe tbody tr th:only-of-type {\n",
       "        vertical-align: middle;\n",
       "    }\n",
       "\n",
       "    .dataframe tbody tr th {\n",
       "        vertical-align: top;\n",
       "    }\n",
       "\n",
       "    .dataframe thead th {\n",
       "        text-align: right;\n",
       "    }\n",
       "</style>\n",
       "<table border=\"1\" class=\"dataframe\">\n",
       "  <thead>\n",
       "    <tr style=\"text-align: right;\">\n",
       "      <th></th>\n",
       "      <th>Transaction ID</th>\n",
       "      <th>Account To</th>\n",
       "      <th>Account From</th>\n",
       "      <th>Transaction Date</th>\n",
       "      <th>Value</th>\n",
       "      <th>Cancelled?</th>\n",
       "    </tr>\n",
       "  </thead>\n",
       "  <tbody>\n",
       "    <tr>\n",
       "      <th>0</th>\n",
       "      <td>1957155</td>\n",
       "      <td>27356852</td>\n",
       "      <td>76206810</td>\n",
       "      <td>2023-02-01</td>\n",
       "      <td>128.78</td>\n",
       "      <td>N</td>\n",
       "    </tr>\n",
       "    <tr>\n",
       "      <th>1</th>\n",
       "      <td>2147025</td>\n",
       "      <td>44242297</td>\n",
       "      <td>24826358</td>\n",
       "      <td>2023-02-09</td>\n",
       "      <td>170.19</td>\n",
       "      <td>N</td>\n",
       "    </tr>\n",
       "    <tr>\n",
       "      <th>2</th>\n",
       "      <td>3065073</td>\n",
       "      <td>10295384</td>\n",
       "      <td>52104303</td>\n",
       "      <td>2023-02-06</td>\n",
       "      <td>87.57</td>\n",
       "      <td>N</td>\n",
       "    </tr>\n",
       "    <tr>\n",
       "      <th>3</th>\n",
       "      <td>6622100</td>\n",
       "      <td>45519330</td>\n",
       "      <td>69315008</td>\n",
       "      <td>2023-02-07</td>\n",
       "      <td>85.76</td>\n",
       "      <td>N</td>\n",
       "    </tr>\n",
       "    <tr>\n",
       "      <th>4</th>\n",
       "      <td>14877473</td>\n",
       "      <td>28680375</td>\n",
       "      <td>44586370</td>\n",
       "      <td>2023-02-02</td>\n",
       "      <td>84.65</td>\n",
       "      <td>N</td>\n",
       "    </tr>\n",
       "    <tr>\n",
       "      <th>...</th>\n",
       "      <td>...</td>\n",
       "      <td>...</td>\n",
       "      <td>...</td>\n",
       "      <td>...</td>\n",
       "      <td>...</td>\n",
       "      <td>...</td>\n",
       "    </tr>\n",
       "    <tr>\n",
       "      <th>8776</th>\n",
       "      <td>9996102963</td>\n",
       "      <td>17925406</td>\n",
       "      <td>40530538</td>\n",
       "      <td>2023-02-13</td>\n",
       "      <td>112.38</td>\n",
       "      <td>N</td>\n",
       "    </tr>\n",
       "    <tr>\n",
       "      <th>8777</th>\n",
       "      <td>9996177785</td>\n",
       "      <td>37678813</td>\n",
       "      <td>60789634</td>\n",
       "      <td>2023-02-13</td>\n",
       "      <td>78.14</td>\n",
       "      <td>N</td>\n",
       "    </tr>\n",
       "    <tr>\n",
       "      <th>8778</th>\n",
       "      <td>9997003500</td>\n",
       "      <td>54458410</td>\n",
       "      <td>17810734</td>\n",
       "      <td>2023-02-09</td>\n",
       "      <td>138.80</td>\n",
       "      <td>N</td>\n",
       "    </tr>\n",
       "    <tr>\n",
       "      <th>8779</th>\n",
       "      <td>9997164946</td>\n",
       "      <td>57426365</td>\n",
       "      <td>23333877</td>\n",
       "      <td>2023-02-01</td>\n",
       "      <td>123.23</td>\n",
       "      <td>N</td>\n",
       "    </tr>\n",
       "    <tr>\n",
       "      <th>8780</th>\n",
       "      <td>9998171830</td>\n",
       "      <td>91423814</td>\n",
       "      <td>98886699</td>\n",
       "      <td>2023-02-12</td>\n",
       "      <td>171.84</td>\n",
       "      <td>Y</td>\n",
       "    </tr>\n",
       "  </tbody>\n",
       "</table>\n",
       "<p>8781 rows × 6 columns</p>\n",
       "</div>"
      ],
      "text/plain": [
       "      Transaction ID  Account To  Account From Transaction Date   Value  \\\n",
       "0            1957155    27356852      76206810       2023-02-01  128.78   \n",
       "1            2147025    44242297      24826358       2023-02-09  170.19   \n",
       "2            3065073    10295384      52104303       2023-02-06   87.57   \n",
       "3            6622100    45519330      69315008       2023-02-07   85.76   \n",
       "4           14877473    28680375      44586370       2023-02-02   84.65   \n",
       "...              ...         ...           ...              ...     ...   \n",
       "8776      9996102963    17925406      40530538       2023-02-13  112.38   \n",
       "8777      9996177785    37678813      60789634       2023-02-13   78.14   \n",
       "8778      9997003500    54458410      17810734       2023-02-09  138.80   \n",
       "8779      9997164946    57426365      23333877       2023-02-01  123.23   \n",
       "8780      9998171830    91423814      98886699       2023-02-12  171.84   \n",
       "\n",
       "     Cancelled?  \n",
       "0             N  \n",
       "1             N  \n",
       "2             N  \n",
       "3             N  \n",
       "4             N  \n",
       "...         ...  \n",
       "8776          N  \n",
       "8777          N  \n",
       "8778          N  \n",
       "8779          N  \n",
       "8780          Y  \n",
       "\n",
       "[8781 rows x 6 columns]"
      ]
     },
     "execution_count": 58,
     "metadata": {},
     "output_type": "execute_result"
    }
   ],
   "source": [
    "transactions"
   ]
  },
  {
   "cell_type": "code",
   "execution_count": 59,
   "metadata": {},
   "outputs": [],
   "source": [
    "transactions = transactions[transactions['Cancelled?'] != 'Y']\n",
    "transactions = transactions[transactions['Value'] > 1000]\n",
    "transactions['Account From'] = transactions['Account From'].astype('str')"
   ]
  },
  {
   "cell_type": "code",
   "execution_count": 60,
   "metadata": {},
   "outputs": [
    {
     "data": {
      "text/plain": [
       "Transaction ID  Account To  Account From  Transaction Date  Value   Cancelled?\n",
       "45024251        15826579    53727603      2023-02-11        1137.9  N             1\n",
       "7088915162      78501355    72971287      2023-02-10        1038.8  N             1\n",
       "6977551879      13197335    51718829      2023-02-09        1043.8  N             1\n",
       "6997835902      41919083    94247629      2023-02-07        1738.7  N             1\n",
       "6998049056      66706067    59135815      2023-02-10        1202.5  N             1\n",
       "                                                                                 ..\n",
       "3481459262      58811985    54868017      2023-02-08        1024.6  N             1\n",
       "3478144698      99481977    76169332      2023-02-02        1695.5  N             1\n",
       "3472782188      62412215    50772829      2023-02-12        1278.9  N             1\n",
       "3463915588      93192347    83128181      2023-02-09        1325.7  N             1\n",
       "9909979543      10034341    53161068      2023-02-03        1566.6  N             1\n",
       "Length: 551, dtype: int64"
      ]
     },
     "execution_count": 60,
     "metadata": {},
     "output_type": "execute_result"
    }
   ],
   "source": [
    "transactions.value_counts()"
   ]
  },
  {
   "cell_type": "code",
   "execution_count": 62,
   "metadata": {},
   "outputs": [],
   "source": [
    "accnt_info['Account Holder ID'] = accnt_info['Account Holder ID'].astype('str')\n",
    "accnt_holders['Account Holder ID'] = accnt_holders['Account Holder ID'].astype('str')"
   ]
  },
  {
   "cell_type": "code",
   "execution_count": 61,
   "metadata": {},
   "outputs": [],
   "source": [
    "accnt_info['Account Holder ID'] = accnt_info['Account Holder ID'].str.split(',')\n",
    "accnt_info = accnt_info.explode('Account Holder ID')"
   ]
  },
  {
   "cell_type": "code",
   "execution_count": 63,
   "metadata": {},
   "outputs": [],
   "source": [
    "accounts = accnt_holders.merge(accnt_info, on='Account Holder ID')"
   ]
  },
  {
   "cell_type": "code",
   "execution_count": 64,
   "metadata": {},
   "outputs": [],
   "source": [
    "transactions['Account From'] = transactions['Account From'].astype('str')\n",
    "accounts['Account Number'] = accounts['Account Number'].astype('str')\n",
    "df= transactions.merge(accounts, left_on='Account From', right_on='Account Number')"
   ]
  },
  {
   "cell_type": "code",
   "execution_count": 65,
   "metadata": {},
   "outputs": [],
   "source": [
    "df = df[df['Account Type'] != 'Platinum']"
   ]
  },
  {
   "cell_type": "code",
   "execution_count": 66,
   "metadata": {},
   "outputs": [
    {
     "data": {
      "text/html": [
       "<div>\n",
       "<style scoped>\n",
       "    .dataframe tbody tr th:only-of-type {\n",
       "        vertical-align: middle;\n",
       "    }\n",
       "\n",
       "    .dataframe tbody tr th {\n",
       "        vertical-align: top;\n",
       "    }\n",
       "\n",
       "    .dataframe thead th {\n",
       "        text-align: right;\n",
       "    }\n",
       "</style>\n",
       "<table border=\"1\" class=\"dataframe\">\n",
       "  <thead>\n",
       "    <tr style=\"text-align: right;\">\n",
       "      <th></th>\n",
       "      <th>Transaction ID</th>\n",
       "      <th>Account To</th>\n",
       "      <th>Account From</th>\n",
       "      <th>Transaction Date</th>\n",
       "      <th>Value</th>\n",
       "      <th>Cancelled?</th>\n",
       "      <th>Account Holder ID</th>\n",
       "      <th>Name</th>\n",
       "      <th>Date of Birth</th>\n",
       "      <th>Contact Number</th>\n",
       "      <th>First Line of Address</th>\n",
       "      <th>Account Number</th>\n",
       "      <th>Account Type</th>\n",
       "      <th>Balance Date</th>\n",
       "      <th>Balance</th>\n",
       "    </tr>\n",
       "  </thead>\n",
       "  <tbody>\n",
       "    <tr>\n",
       "      <th>2</th>\n",
       "      <td>46779876</td>\n",
       "      <td>21694967</td>\n",
       "      <td>82023979</td>\n",
       "      <td>2023-02-02</td>\n",
       "      <td>1019.5</td>\n",
       "      <td>N</td>\n",
       "      <td>76986856</td>\n",
       "      <td>Barb Eminson</td>\n",
       "      <td>20/07/1974</td>\n",
       "      <td>7748168711</td>\n",
       "      <td>3149 American Ash Hill</td>\n",
       "      <td>82023979</td>\n",
       "      <td>Gold</td>\n",
       "      <td>2023-01-31</td>\n",
       "      <td>744.37</td>\n",
       "    </tr>\n",
       "    <tr>\n",
       "      <th>3</th>\n",
       "      <td>57491925</td>\n",
       "      <td>19094015</td>\n",
       "      <td>65589565</td>\n",
       "      <td>2023-02-12</td>\n",
       "      <td>1761.1</td>\n",
       "      <td>N</td>\n",
       "      <td>37386889</td>\n",
       "      <td>Annabel Medd</td>\n",
       "      <td>17/02/1959</td>\n",
       "      <td>7175713923</td>\n",
       "      <td>24 Warner Junction</td>\n",
       "      <td>65589565</td>\n",
       "      <td>Gold</td>\n",
       "      <td>2023-01-31</td>\n",
       "      <td>321.99</td>\n",
       "    </tr>\n",
       "    <tr>\n",
       "      <th>4</th>\n",
       "      <td>108536548</td>\n",
       "      <td>86207903</td>\n",
       "      <td>10553619</td>\n",
       "      <td>2023-02-06</td>\n",
       "      <td>1085.4</td>\n",
       "      <td>N</td>\n",
       "      <td>58583983</td>\n",
       "      <td>Dud Gaunt</td>\n",
       "      <td>04/12/1983</td>\n",
       "      <td>7681115087</td>\n",
       "      <td>3 Canary Avenue</td>\n",
       "      <td>10553619</td>\n",
       "      <td>Basic</td>\n",
       "      <td>2023-01-31</td>\n",
       "      <td>756.20</td>\n",
       "    </tr>\n",
       "    <tr>\n",
       "      <th>5</th>\n",
       "      <td>2843750091</td>\n",
       "      <td>20090784</td>\n",
       "      <td>10553619</td>\n",
       "      <td>2023-02-04</td>\n",
       "      <td>1263.9</td>\n",
       "      <td>N</td>\n",
       "      <td>58583983</td>\n",
       "      <td>Dud Gaunt</td>\n",
       "      <td>04/12/1983</td>\n",
       "      <td>7681115087</td>\n",
       "      <td>3 Canary Avenue</td>\n",
       "      <td>10553619</td>\n",
       "      <td>Basic</td>\n",
       "      <td>2023-01-31</td>\n",
       "      <td>756.20</td>\n",
       "    </tr>\n",
       "    <tr>\n",
       "      <th>6</th>\n",
       "      <td>176916326</td>\n",
       "      <td>33632099</td>\n",
       "      <td>18185362</td>\n",
       "      <td>2023-02-12</td>\n",
       "      <td>1955.6</td>\n",
       "      <td>N</td>\n",
       "      <td>83289626</td>\n",
       "      <td>Agace Sporle</td>\n",
       "      <td>28/02/1999</td>\n",
       "      <td>7182359874</td>\n",
       "      <td>96 Emmet Pass</td>\n",
       "      <td>18185362</td>\n",
       "      <td>Basic</td>\n",
       "      <td>2023-01-31</td>\n",
       "      <td>609.36</td>\n",
       "    </tr>\n",
       "    <tr>\n",
       "      <th>...</th>\n",
       "      <td>...</td>\n",
       "      <td>...</td>\n",
       "      <td>...</td>\n",
       "      <td>...</td>\n",
       "      <td>...</td>\n",
       "      <td>...</td>\n",
       "      <td>...</td>\n",
       "      <td>...</td>\n",
       "      <td>...</td>\n",
       "      <td>...</td>\n",
       "      <td>...</td>\n",
       "      <td>...</td>\n",
       "      <td>...</td>\n",
       "      <td>...</td>\n",
       "      <td>...</td>\n",
       "    </tr>\n",
       "    <tr>\n",
       "      <th>492</th>\n",
       "      <td>9847562024</td>\n",
       "      <td>84778718</td>\n",
       "      <td>29358670</td>\n",
       "      <td>2023-02-12</td>\n",
       "      <td>1183.8</td>\n",
       "      <td>N</td>\n",
       "      <td>14221230</td>\n",
       "      <td>Joice Lufkin</td>\n",
       "      <td>01/08/1962</td>\n",
       "      <td>7943159313</td>\n",
       "      <td>6033 Dunning Center</td>\n",
       "      <td>29358670</td>\n",
       "      <td>Gold</td>\n",
       "      <td>2023-01-31</td>\n",
       "      <td>874.94</td>\n",
       "    </tr>\n",
       "    <tr>\n",
       "      <th>493</th>\n",
       "      <td>9849651040</td>\n",
       "      <td>19789505</td>\n",
       "      <td>88160468</td>\n",
       "      <td>2023-02-01</td>\n",
       "      <td>1041.9</td>\n",
       "      <td>N</td>\n",
       "      <td>21827357</td>\n",
       "      <td>Raff Pakeman</td>\n",
       "      <td>09/03/1997</td>\n",
       "      <td>7596092076</td>\n",
       "      <td>76 Ridge Oak Alley</td>\n",
       "      <td>88160468</td>\n",
       "      <td>Gold</td>\n",
       "      <td>2023-01-31</td>\n",
       "      <td>640.07</td>\n",
       "    </tr>\n",
       "    <tr>\n",
       "      <th>494</th>\n",
       "      <td>9859809917</td>\n",
       "      <td>25678043</td>\n",
       "      <td>24529850</td>\n",
       "      <td>2023-02-08</td>\n",
       "      <td>2283.2</td>\n",
       "      <td>N</td>\n",
       "      <td>74244392</td>\n",
       "      <td>Coralie Knellen</td>\n",
       "      <td>28/09/1968</td>\n",
       "      <td>7134906360</td>\n",
       "      <td>682 Morning Pass</td>\n",
       "      <td>24529850</td>\n",
       "      <td>Basic</td>\n",
       "      <td>2023-01-31</td>\n",
       "      <td>800.79</td>\n",
       "    </tr>\n",
       "    <tr>\n",
       "      <th>495</th>\n",
       "      <td>9881869013</td>\n",
       "      <td>41252281</td>\n",
       "      <td>53845615</td>\n",
       "      <td>2023-02-10</td>\n",
       "      <td>1052.9</td>\n",
       "      <td>N</td>\n",
       "      <td>53284971</td>\n",
       "      <td>Melita Grouvel</td>\n",
       "      <td>20/01/1991</td>\n",
       "      <td>7528594995</td>\n",
       "      <td>1 Victoria Point</td>\n",
       "      <td>53845615</td>\n",
       "      <td>Basic</td>\n",
       "      <td>2023-01-31</td>\n",
       "      <td>597.04</td>\n",
       "    </tr>\n",
       "    <tr>\n",
       "      <th>497</th>\n",
       "      <td>9909979543</td>\n",
       "      <td>10034341</td>\n",
       "      <td>53161068</td>\n",
       "      <td>2023-02-03</td>\n",
       "      <td>1566.6</td>\n",
       "      <td>N</td>\n",
       "      <td>34071507</td>\n",
       "      <td>Neill Jowle</td>\n",
       "      <td>20/01/1984</td>\n",
       "      <td>7185971315</td>\n",
       "      <td>8 Marquette Crossing</td>\n",
       "      <td>53161068</td>\n",
       "      <td>Gold</td>\n",
       "      <td>2023-01-31</td>\n",
       "      <td>945.53</td>\n",
       "    </tr>\n",
       "  </tbody>\n",
       "</table>\n",
       "<p>413 rows × 15 columns</p>\n",
       "</div>"
      ],
      "text/plain": [
       "     Transaction ID  Account To Account From Transaction Date   Value  \\\n",
       "2          46779876    21694967     82023979       2023-02-02  1019.5   \n",
       "3          57491925    19094015     65589565       2023-02-12  1761.1   \n",
       "4         108536548    86207903     10553619       2023-02-06  1085.4   \n",
       "5        2843750091    20090784     10553619       2023-02-04  1263.9   \n",
       "6         176916326    33632099     18185362       2023-02-12  1955.6   \n",
       "..              ...         ...          ...              ...     ...   \n",
       "492      9847562024    84778718     29358670       2023-02-12  1183.8   \n",
       "493      9849651040    19789505     88160468       2023-02-01  1041.9   \n",
       "494      9859809917    25678043     24529850       2023-02-08  2283.2   \n",
       "495      9881869013    41252281     53845615       2023-02-10  1052.9   \n",
       "497      9909979543    10034341     53161068       2023-02-03  1566.6   \n",
       "\n",
       "    Cancelled? Account Holder ID             Name Date of Birth  \\\n",
       "2            N          76986856     Barb Eminson    20/07/1974   \n",
       "3            N          37386889     Annabel Medd    17/02/1959   \n",
       "4            N          58583983        Dud Gaunt    04/12/1983   \n",
       "5            N          58583983        Dud Gaunt    04/12/1983   \n",
       "6            N          83289626     Agace Sporle    28/02/1999   \n",
       "..         ...               ...              ...           ...   \n",
       "492          N          14221230     Joice Lufkin    01/08/1962   \n",
       "493          N          21827357     Raff Pakeman    09/03/1997   \n",
       "494          N          74244392  Coralie Knellen    28/09/1968   \n",
       "495          N          53284971   Melita Grouvel    20/01/1991   \n",
       "497          N          34071507      Neill Jowle    20/01/1984   \n",
       "\n",
       "     Contact Number   First Line of Address Account Number Account Type  \\\n",
       "2        7748168711  3149 American Ash Hill       82023979         Gold   \n",
       "3        7175713923      24 Warner Junction       65589565         Gold   \n",
       "4        7681115087         3 Canary Avenue       10553619        Basic   \n",
       "5        7681115087         3 Canary Avenue       10553619        Basic   \n",
       "6        7182359874           96 Emmet Pass       18185362        Basic   \n",
       "..              ...                     ...            ...          ...   \n",
       "492      7943159313     6033 Dunning Center       29358670         Gold   \n",
       "493      7596092076      76 Ridge Oak Alley       88160468         Gold   \n",
       "494      7134906360        682 Morning Pass       24529850        Basic   \n",
       "495      7528594995        1 Victoria Point       53845615        Basic   \n",
       "497      7185971315    8 Marquette Crossing       53161068         Gold   \n",
       "\n",
       "    Balance Date  Balance  \n",
       "2     2023-01-31   744.37  \n",
       "3     2023-01-31   321.99  \n",
       "4     2023-01-31   756.20  \n",
       "5     2023-01-31   756.20  \n",
       "6     2023-01-31   609.36  \n",
       "..           ...      ...  \n",
       "492   2023-01-31   874.94  \n",
       "493   2023-01-31   640.07  \n",
       "494   2023-01-31   800.79  \n",
       "495   2023-01-31   597.04  \n",
       "497   2023-01-31   945.53  \n",
       "\n",
       "[413 rows x 15 columns]"
      ]
     },
     "execution_count": 66,
     "metadata": {},
     "output_type": "execute_result"
    }
   ],
   "source": [
    "df"
   ]
  },
  {
   "cell_type": "code",
   "execution_count": 68,
   "metadata": {},
   "outputs": [],
   "source": [
    "df.to_csv('output.csv')"
   ]
  },
  {
   "cell_type": "code",
   "execution_count": null,
   "metadata": {},
   "outputs": [],
   "source": []
  }
 ],
 "metadata": {
  "kernelspec": {
   "display_name": "Python 3",
   "language": "python",
   "name": "python3"
  },
  "language_info": {
   "codemirror_mode": {
    "name": "ipython",
    "version": 3
   },
   "file_extension": ".py",
   "mimetype": "text/x-python",
   "name": "python",
   "nbconvert_exporter": "python",
   "pygments_lexer": "ipython3",
   "version": "3.8.-1"
  },
  "orig_nbformat": 4
 },
 "nbformat": 4,
 "nbformat_minor": 2
}
