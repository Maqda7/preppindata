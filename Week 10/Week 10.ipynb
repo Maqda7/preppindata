{
 "cells": [
  {
   "cell_type": "code",
   "execution_count": 88,
   "metadata": {},
   "outputs": [],
   "source": [
    "import pandas as pd\n",
    "from datetime import date, timedelta\n",
    "import numpy as np"
   ]
  },
  {
   "cell_type": "code",
   "execution_count": 89,
   "metadata": {},
   "outputs": [
    {
     "data": {
      "text/plain": [
       "'\"\\nAggregate the data so we have a single balance for each day already in the dataset, for each account\\nScaffold the data so each account has a row between 31st Jan and 14th Feb (hint)\\nMake sure new rows have a null in the Transaction Value field\\nCreate a parameter so a particular date can be selected\\nFilter to just this date\\nOutput the data - making it clear which date is being filtered to\\n'"
      ]
     },
     "execution_count": 89,
     "metadata": {},
     "output_type": "execute_result"
    }
   ],
   "source": [
    "\"\"\"\"\n",
    "Aggregate the data so we have a single balance for each day already in the dataset, for each account\n",
    "Scaffold the data so each account has a row between 31st Jan and 14th Feb (hint)\n",
    "Make sure new rows have a null in the Transaction Value field\n",
    "Create a parameter so a particular date can be selected\n",
    "Filter to just this date\n",
    "Output the data - making it clear which date is being filtered to\n",
    "\"\"\""
   ]
  },
  {
   "cell_type": "code",
   "execution_count": 90,
   "metadata": {},
   "outputs": [],
   "source": [
    "#Import the data\n",
    "df = pd.read_csv('Account Statements.csv')\n",
    "df['Balance Date'] = pd.to_datetime(df['Balance Date'], dayfirst = True)"
   ]
  },
  {
   "cell_type": "code",
   "execution_count": 91,
   "metadata": {},
   "outputs": [
    {
     "name": "stderr",
     "output_type": "stream",
     "text": [
      "C:\\Users\\Dell\\AppData\\Local\\Temp\\ipykernel_10848\\3414675.py:1: FutureWarning: Indexing with multiple keys (implicitly converted to a tuple of keys) will be deprecated, use a list instead.\n",
      "  df = df.groupby(by= ['Account Number', 'Balance Date' ])['Balance', 'Transaction Value'].sum()\n"
     ]
    }
   ],
   "source": [
    "#Aggregate the data\n",
    "df = df.groupby(by= ['Account Number', 'Balance Date' ])['Balance', 'Transaction Value'].sum()\n",
    "df = df.reset_index()\n",
    "df = df.sort_values(['Account Number','Balance Date'])\n",
    "df"
   ]
  },
  {
   "cell_type": "code",
   "execution_count": 93,
   "metadata": {},
   "outputs": [],
   "source": [
    "#Create a list of dates from the 31st of Jan to 14th of Feb. \n",
    "sdate = date(2023,1,31)\n",
    "edate = date(2023,2,15)\n",
    "\n",
    "all_dates = pd.date_range(sdate,edate-timedelta(days=1),freq='d').tolist()"
   ]
  },
  {
   "cell_type": "code",
   "execution_count": 128,
   "metadata": {},
   "outputs": [],
   "source": [
    "#Scaffolding Function\n",
    "\n",
    "def scaffolding(df,account_number): \n",
    "    sca_df = df[df['Account Number']==account_number]\n",
    "    dates = list(set(all_dates) -set(sca_df['Balance Date'].tolist())) #Subtract 'all_dates' list from the list of dates in the dataframe for that account number\n",
    "    dates.sort() \n",
    "    for date in dates: #Loop through the dates that we want to add.\n",
    "        sca_df = sca_df.sort_values(['Balance Date'])\n",
    "        df2 = {'Account Number': account_number, \n",
    "               'Balance Date': date,\n",
    "               'Balance': sca_df[sca_df['Balance Date'] < date].iloc[-1]['Balance'], #Get the balance from the previous day \n",
    "                'Transaction Value': np.nan}\n",
    "        df2 = pd.DataFrame([df2])\n",
    "        sca_df = pd.concat([sca_df,df2],axis=0, ignore_index = True) #concat the dataframe with the new row\n",
    "    return sca_df"
   ]
  },
  {
   "cell_type": "code",
   "execution_count": 124,
   "metadata": {},
   "outputs": [],
   "source": []
  },
  {
   "cell_type": "code",
   "execution_count": 129,
   "metadata": {},
   "outputs": [],
   "source": [
    "#Get unique list of all accounts then loop through, apply the scaffolding function to each account number\n",
    "\n",
    "all_accounts = df['Account Number'].unique().tolist()\n",
    "final_df = pd.DataFrame(columns = ['Account Number', 'Balance Date', 'Balance', 'Transaction Value'])\n",
    "for account in all_accounts: \n",
    "    scaffolded = scaffolding(df,account)\n",
    "    final_df = pd.concat([final_df,scaffolded])"
   ]
  },
  {
   "cell_type": "code",
   "execution_count": 136,
   "metadata": {},
   "outputs": [],
   "source": [
    "#Get user input and filter the final dataframe to that date\n",
    "\n",
    "user_input = input(\"Enter a date (YYYY-MM-DD): \")\n",
    "input_date = pd.to_datetime(user_input)\n",
    "\n",
    "output = final_df[final_df['Balance Date'] == input_date]\n",
    "\n",
    "output.to_csv('output.csv')"
   ]
  }
 ],
 "metadata": {
  "kernelspec": {
   "display_name": "Python 3",
   "language": "python",
   "name": "python3"
  },
  "language_info": {
   "codemirror_mode": {
    "name": "ipython",
    "version": 3
   },
   "file_extension": ".py",
   "mimetype": "text/x-python",
   "name": "python",
   "nbconvert_exporter": "python",
   "pygments_lexer": "ipython3",
   "version": "3.8.10"
  },
  "orig_nbformat": 4
 },
 "nbformat": 4,
 "nbformat_minor": 2
}
