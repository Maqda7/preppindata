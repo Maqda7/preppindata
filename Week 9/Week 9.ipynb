{
 "cells": [
  {
   "cell_type": "code",
   "execution_count": 26,
   "metadata": {},
   "outputs": [],
   "source": [
    "import pandas as pd\n",
    "import warnings\n",
    "warnings.simplefilter(action='ignore', category=FutureWarning)"
   ]
  },
  {
   "cell_type": "code",
   "execution_count": 27,
   "metadata": {},
   "outputs": [
    {
     "data": {
      "text/plain": [
       "'\"\\n- For the Transaction Path table:\\n    - Make sure field naming convention matches the other tables\\n      i.e. instead of Account_From it should be Account From\\n- Filter out the cancelled transactions\\n- Split the flow into incoming and outgoing transactions \\n- Bring the data together with the Balance as of 31st Jan \\n- Work out the order that transactions occur for each account\\nHint: where multiple transactions happen on the same day, assume the highest value transactions happen first\\n- Use a running sum to calculate the Balance for each account on each day (hint)\\n- The Transaction Value should be null for 31st Jan, as this is the starting balance\\n'"
      ]
     },
     "execution_count": 27,
     "metadata": {},
     "output_type": "execute_result"
    }
   ],
   "source": [
    "\"\"\"\"\n",
    "- For the Transaction Path table:\n",
    "    - Make sure field naming convention matches the other tables\n",
    "      i.e. instead of Account_From it should be Account From\n",
    "- Filter out the cancelled transactions\n",
    "- Split the flow into incoming and outgoing transactions \n",
    "- Bring the data together with the Balance as of 31st Jan \n",
    "- Work out the order that transactions occur for each account\n",
    "Hint: where multiple transactions happen on the same day, assume the highest value transactions happen first\n",
    "- Use a running sum to calculate the Balance for each account on each day (hint)\n",
    "- The Transaction Value should be null for 31st Jan, as this is the starting balance\n",
    "\"\"\""
   ]
  },
  {
   "cell_type": "code",
   "execution_count": 28,
   "metadata": {},
   "outputs": [],
   "source": [
    "#Import Data\n",
    "account = pd.read_csv(\"Account Information.csv\")\n",
    "detail = pd.read_csv(\"Transaction Detail.csv\")\n",
    "path = pd.read_csv(\"Transaction Path.csv\")"
   ]
  },
  {
   "cell_type": "code",
   "execution_count": 29,
   "metadata": {},
   "outputs": [],
   "source": [
    "#Rename columns in Transaction Path csv\n",
    "path.rename({'Account_To': 'Account To', 'Account_From': 'Account From'}, axis =1, inplace= True)"
   ]
  },
  {
   "cell_type": "code",
   "execution_count": 30,
   "metadata": {},
   "outputs": [],
   "source": [
    "#Filter to only non-cancelled transactions\n",
    "detail = detail[detail['Cancelled?'] == 'N']"
   ]
  },
  {
   "cell_type": "code",
   "execution_count": 31,
   "metadata": {},
   "outputs": [],
   "source": [
    "#Combine Transaction details with transaction path data\n",
    "transactions = pd.merge(detail, right =path,on= 'Transaction ID', how='left')"
   ]
  },
  {
   "cell_type": "code",
   "execution_count": 32,
   "metadata": {},
   "outputs": [],
   "source": [
    "#Split transactions to incoming and outgoing\n",
    "incoming = transactions.drop('Account From', axis=1)\n",
    "outgoing = transactions.drop('Account To', axis=1)\n",
    "outgoing['Value'] = outgoing['Value']*-1"
   ]
  },
  {
   "cell_type": "code",
   "execution_count": 33,
   "metadata": {},
   "outputs": [],
   "source": [
    "#Filter accounts data to only relevant columns\n",
    "account = account[['Account Number', 'Balance Date', 'Balance']]"
   ]
  },
  {
   "cell_type": "code",
   "execution_count": 34,
   "metadata": {},
   "outputs": [],
   "source": [
    "#Change date columns to type datetime64 for consistency\n",
    "\n",
    "account['Balance Date'] = account['Balance Date'].astype('datetime64[D]')\n",
    "outgoing['Transaction Date'] = outgoing['Transaction Date'].astype('datetime64[D]')\n",
    "incoming['Transaction Date'] = incoming['Transaction Date'].astype('datetime64[D]')"
   ]
  },
  {
   "cell_type": "code",
   "execution_count": 35,
   "metadata": {},
   "outputs": [],
   "source": [
    "#Merge incoming transactions with the accounts\n",
    "incoming_merg = pd.merge(account, right = incoming, left_on= 'Account Number', right_on='Account To', how = 'inner')\n",
    "incoming_merg['Account To'] = incoming_merg['Account To'].astype('int64')\n",
    "\n",
    "#Merge outgoing transactions with the accounts\n",
    "outgoing_merge = pd.merge(account, right= outgoing, left_on='Account Number', right_on='Account From', how = 'inner')\n",
    "outgoing_merge['Account From'] = outgoing_merge['Account From'].astype('int64')"
   ]
  },
  {
   "cell_type": "code",
   "execution_count": 36,
   "metadata": {},
   "outputs": [],
   "source": [
    "#Combine everything into one dataframe\n",
    "df = pd.concat([incoming_merg,outgoing_merge])\n",
    "df.drop(['Cancelled?', 'Account To', 'Account From'], axis=1 , inplace= True)"
   ]
  },
  {
   "cell_type": "code",
   "execution_count": 37,
   "metadata": {},
   "outputs": [],
   "source": [
    "\"\"\"Not the ideal solution but genuinely couldn't think of another way to do it. If anyone has a better way of doing this please reach out. \n",
    "1- Get a unique list of Account Numbers to loops through\n",
    "2- Add a row with the starting balance on starting date 31st of Jan 2023\n",
    "\"\"\"\n",
    "\n",
    "unique_list = df['Account Number'].unique().tolist()\n",
    "\n",
    "\n",
    "for id in unique_list:\n",
    "    df2 = {'Account Number': id, \n",
    "           'Balance Date': pd.to_datetime('2023-01-31'), \n",
    "           'Balance': account[account['Account Number'] == id]['Balance'].iloc[-1],\n",
    "           'Transaction ID': 'null',\n",
    "           'Transaction Date': pd.to_datetime('2023-01-31'),\n",
    "           'Value': account[account['Account Number'] == id]['Balance'].iloc[-1]}\n",
    "    df = df.append(df2, ignore_index = True)\n",
    "  "
   ]
  },
  {
   "cell_type": "code",
   "execution_count": 38,
   "metadata": {},
   "outputs": [
    {
     "data": {
      "text/html": [
       "<div>\n",
       "<style scoped>\n",
       "    .dataframe tbody tr th:only-of-type {\n",
       "        vertical-align: middle;\n",
       "    }\n",
       "\n",
       "    .dataframe tbody tr th {\n",
       "        vertical-align: top;\n",
       "    }\n",
       "\n",
       "    .dataframe thead th {\n",
       "        text-align: right;\n",
       "    }\n",
       "</style>\n",
       "<table border=\"1\" class=\"dataframe\">\n",
       "  <thead>\n",
       "    <tr style=\"text-align: right;\">\n",
       "      <th></th>\n",
       "      <th>Account Number</th>\n",
       "      <th>Balance Date</th>\n",
       "      <th>Balance</th>\n",
       "      <th>Transaction ID</th>\n",
       "      <th>Transaction Date</th>\n",
       "      <th>Value</th>\n",
       "    </tr>\n",
       "  </thead>\n",
       "  <tbody>\n",
       "    <tr>\n",
       "      <th>17378</th>\n",
       "      <td>10005367</td>\n",
       "      <td>2023-01-31</td>\n",
       "      <td>728.25</td>\n",
       "      <td>null</td>\n",
       "      <td>2023-01-31</td>\n",
       "      <td>728.25</td>\n",
       "    </tr>\n",
       "    <tr>\n",
       "      <th>8689</th>\n",
       "      <td>10005367</td>\n",
       "      <td>2023-01-31</td>\n",
       "      <td>728.25</td>\n",
       "      <td>1753186544</td>\n",
       "      <td>2023-02-02</td>\n",
       "      <td>-1097.60</td>\n",
       "    </tr>\n",
       "    <tr>\n",
       "      <th>0</th>\n",
       "      <td>10005367</td>\n",
       "      <td>2023-01-31</td>\n",
       "      <td>728.25</td>\n",
       "      <td>601263790</td>\n",
       "      <td>2023-02-04</td>\n",
       "      <td>144.75</td>\n",
       "    </tr>\n",
       "    <tr>\n",
       "      <th>8690</th>\n",
       "      <td>10005367</td>\n",
       "      <td>2023-01-31</td>\n",
       "      <td>728.25</td>\n",
       "      <td>8072094629</td>\n",
       "      <td>2023-02-04</td>\n",
       "      <td>-67.01</td>\n",
       "    </tr>\n",
       "    <tr>\n",
       "      <th>8691</th>\n",
       "      <td>10005367</td>\n",
       "      <td>2023-01-31</td>\n",
       "      <td>728.25</td>\n",
       "      <td>3011215596</td>\n",
       "      <td>2023-02-05</td>\n",
       "      <td>-108.26</td>\n",
       "    </tr>\n",
       "    <tr>\n",
       "      <th>...</th>\n",
       "      <td>...</td>\n",
       "      <td>...</td>\n",
       "      <td>...</td>\n",
       "      <td>...</td>\n",
       "      <td>...</td>\n",
       "      <td>...</td>\n",
       "    </tr>\n",
       "    <tr>\n",
       "      <th>8687</th>\n",
       "      <td>99937043</td>\n",
       "      <td>2023-01-31</td>\n",
       "      <td>918.42</td>\n",
       "      <td>2441743678</td>\n",
       "      <td>2023-02-05</td>\n",
       "      <td>52.36</td>\n",
       "    </tr>\n",
       "    <tr>\n",
       "      <th>17375</th>\n",
       "      <td>99937043</td>\n",
       "      <td>2023-01-31</td>\n",
       "      <td>918.42</td>\n",
       "      <td>2016922982</td>\n",
       "      <td>2023-02-06</td>\n",
       "      <td>-92.42</td>\n",
       "    </tr>\n",
       "    <tr>\n",
       "      <th>17376</th>\n",
       "      <td>99937043</td>\n",
       "      <td>2023-01-31</td>\n",
       "      <td>918.42</td>\n",
       "      <td>7354862347</td>\n",
       "      <td>2023-02-09</td>\n",
       "      <td>-122.91</td>\n",
       "    </tr>\n",
       "    <tr>\n",
       "      <th>17377</th>\n",
       "      <td>99937043</td>\n",
       "      <td>2023-01-31</td>\n",
       "      <td>918.42</td>\n",
       "      <td>3771418488</td>\n",
       "      <td>2023-02-11</td>\n",
       "      <td>-125.33</td>\n",
       "    </tr>\n",
       "    <tr>\n",
       "      <th>8688</th>\n",
       "      <td>99937043</td>\n",
       "      <td>2023-01-31</td>\n",
       "      <td>918.42</td>\n",
       "      <td>9775546982</td>\n",
       "      <td>2023-02-13</td>\n",
       "      <td>75.16</td>\n",
       "    </tr>\n",
       "  </tbody>\n",
       "</table>\n",
       "<p>20365 rows × 6 columns</p>\n",
       "</div>"
      ],
      "text/plain": [
       "       Account Number Balance Date  Balance Transaction ID Transaction Date  \\\n",
       "17378        10005367   2023-01-31   728.25           null       2023-01-31   \n",
       "8689         10005367   2023-01-31   728.25     1753186544       2023-02-02   \n",
       "0            10005367   2023-01-31   728.25      601263790       2023-02-04   \n",
       "8690         10005367   2023-01-31   728.25     8072094629       2023-02-04   \n",
       "8691         10005367   2023-01-31   728.25     3011215596       2023-02-05   \n",
       "...               ...          ...      ...            ...              ...   \n",
       "8687         99937043   2023-01-31   918.42     2441743678       2023-02-05   \n",
       "17375        99937043   2023-01-31   918.42     2016922982       2023-02-06   \n",
       "17376        99937043   2023-01-31   918.42     7354862347       2023-02-09   \n",
       "17377        99937043   2023-01-31   918.42     3771418488       2023-02-11   \n",
       "8688         99937043   2023-01-31   918.42     9775546982       2023-02-13   \n",
       "\n",
       "         Value  \n",
       "17378   728.25  \n",
       "8689  -1097.60  \n",
       "0       144.75  \n",
       "8690    -67.01  \n",
       "8691   -108.26  \n",
       "...        ...  \n",
       "8687     52.36  \n",
       "17375   -92.42  \n",
       "17376  -122.91  \n",
       "17377  -125.33  \n",
       "8688     75.16  \n",
       "\n",
       "[20365 rows x 6 columns]"
      ]
     },
     "execution_count": 38,
     "metadata": {},
     "output_type": "execute_result"
    }
   ],
   "source": [
    "#Sort table and show it. \n",
    "df.sort_values(by=['Account Number','Transaction Date','Value'], inplace=True, ascending=[True,True,False])\n",
    "df"
   ]
  },
  {
   "cell_type": "code",
   "execution_count": 39,
   "metadata": {},
   "outputs": [],
   "source": [
    "#Calculate running sum\n",
    "df['Balance New'] = df.groupby('Account Number')['Value'].cumsum()"
   ]
  },
  {
   "cell_type": "code",
   "execution_count": 40,
   "metadata": {},
   "outputs": [
    {
     "name": "stderr",
     "output_type": "stream",
     "text": [
      "C:\\Users\\Dell\\AppData\\Local\\Temp\\ipykernel_16200\\3513722624.py:3: SettingWithCopyWarning: \n",
      "A value is trying to be set on a copy of a slice from a DataFrame\n",
      "\n",
      "See the caveats in the documentation: https://pandas.pydata.org/pandas-docs/stable/user_guide/indexing.html#returning-a-view-versus-a-copy\n",
      "  df.rename({'Transaction Date': 'Balance Date', 'Value': 'Transaction Value', 'Balance New': 'Balance'}, axis =1, inplace= True) #rename columns\n"
     ]
    }
   ],
   "source": [
    "#Clean the resulting dataframe for the final output\n",
    "df =df[['Account Number', 'Transaction Date', 'Value', 'Balance New']] #Keep only needed columns\n",
    "df.rename({'Transaction Date': 'Balance Date', 'Value': 'Transaction Value', 'Balance New': 'Balance'}, axis =1, inplace= True) #rename columns\n",
    "df.loc[df['Balance Date'] == '2023-01-31', 'Transaction Value'] = None #Set Transaction Value to Null at the starting date\n"
   ]
  },
  {
   "cell_type": "code",
   "execution_count": 44,
   "metadata": {},
   "outputs": [
    {
     "data": {
      "text/html": [
       "<div>\n",
       "<style scoped>\n",
       "    .dataframe tbody tr th:only-of-type {\n",
       "        vertical-align: middle;\n",
       "    }\n",
       "\n",
       "    .dataframe tbody tr th {\n",
       "        vertical-align: top;\n",
       "    }\n",
       "\n",
       "    .dataframe thead th {\n",
       "        text-align: right;\n",
       "    }\n",
       "</style>\n",
       "<table border=\"1\" class=\"dataframe\">\n",
       "  <thead>\n",
       "    <tr style=\"text-align: right;\">\n",
       "      <th></th>\n",
       "      <th>Account Number</th>\n",
       "      <th>Balance Date</th>\n",
       "      <th>Transaction Value</th>\n",
       "      <th>Balance</th>\n",
       "    </tr>\n",
       "  </thead>\n",
       "  <tbody>\n",
       "    <tr>\n",
       "      <th>17378</th>\n",
       "      <td>10005367</td>\n",
       "      <td>2023-01-31</td>\n",
       "      <td>NaN</td>\n",
       "      <td>728.25</td>\n",
       "    </tr>\n",
       "    <tr>\n",
       "      <th>8689</th>\n",
       "      <td>10005367</td>\n",
       "      <td>2023-02-02</td>\n",
       "      <td>-1097.60</td>\n",
       "      <td>-369.35</td>\n",
       "    </tr>\n",
       "    <tr>\n",
       "      <th>0</th>\n",
       "      <td>10005367</td>\n",
       "      <td>2023-02-04</td>\n",
       "      <td>144.75</td>\n",
       "      <td>-224.60</td>\n",
       "    </tr>\n",
       "    <tr>\n",
       "      <th>8690</th>\n",
       "      <td>10005367</td>\n",
       "      <td>2023-02-04</td>\n",
       "      <td>-67.01</td>\n",
       "      <td>-291.61</td>\n",
       "    </tr>\n",
       "    <tr>\n",
       "      <th>8691</th>\n",
       "      <td>10005367</td>\n",
       "      <td>2023-02-05</td>\n",
       "      <td>-108.26</td>\n",
       "      <td>-399.87</td>\n",
       "    </tr>\n",
       "    <tr>\n",
       "      <th>...</th>\n",
       "      <td>...</td>\n",
       "      <td>...</td>\n",
       "      <td>...</td>\n",
       "      <td>...</td>\n",
       "    </tr>\n",
       "    <tr>\n",
       "      <th>8687</th>\n",
       "      <td>99937043</td>\n",
       "      <td>2023-02-05</td>\n",
       "      <td>52.36</td>\n",
       "      <td>970.18</td>\n",
       "    </tr>\n",
       "    <tr>\n",
       "      <th>17375</th>\n",
       "      <td>99937043</td>\n",
       "      <td>2023-02-06</td>\n",
       "      <td>-92.42</td>\n",
       "      <td>877.76</td>\n",
       "    </tr>\n",
       "    <tr>\n",
       "      <th>17376</th>\n",
       "      <td>99937043</td>\n",
       "      <td>2023-02-09</td>\n",
       "      <td>-122.91</td>\n",
       "      <td>754.85</td>\n",
       "    </tr>\n",
       "    <tr>\n",
       "      <th>17377</th>\n",
       "      <td>99937043</td>\n",
       "      <td>2023-02-11</td>\n",
       "      <td>-125.33</td>\n",
       "      <td>629.52</td>\n",
       "    </tr>\n",
       "    <tr>\n",
       "      <th>8688</th>\n",
       "      <td>99937043</td>\n",
       "      <td>2023-02-13</td>\n",
       "      <td>75.16</td>\n",
       "      <td>704.68</td>\n",
       "    </tr>\n",
       "  </tbody>\n",
       "</table>\n",
       "<p>20365 rows × 4 columns</p>\n",
       "</div>"
      ],
      "text/plain": [
       "       Account Number Balance Date  Transaction Value  Balance\n",
       "17378        10005367   2023-01-31                NaN   728.25\n",
       "8689         10005367   2023-02-02           -1097.60  -369.35\n",
       "0            10005367   2023-02-04             144.75  -224.60\n",
       "8690         10005367   2023-02-04             -67.01  -291.61\n",
       "8691         10005367   2023-02-05            -108.26  -399.87\n",
       "...               ...          ...                ...      ...\n",
       "8687         99937043   2023-02-05              52.36   970.18\n",
       "17375        99937043   2023-02-06             -92.42   877.76\n",
       "17376        99937043   2023-02-09            -122.91   754.85\n",
       "17377        99937043   2023-02-11            -125.33   629.52\n",
       "8688         99937043   2023-02-13              75.16   704.68\n",
       "\n",
       "[20365 rows x 4 columns]"
      ]
     },
     "execution_count": 44,
     "metadata": {},
     "output_type": "execute_result"
    }
   ],
   "source": [
    "#Output\n",
    "df.to_csv('output.csv', index= False)\n",
    "df\n",
    "\n",
    "#Note: The result is 20,365 rows while the solution shows it should be 20,378 rows. No idea where the missing rows are.\n",
    "#If anyone can figure it out please feel free to reach out to me. "
   ]
  }
 ],
 "metadata": {
  "kernelspec": {
   "display_name": "Python 3",
   "language": "python",
   "name": "python3"
  },
  "language_info": {
   "codemirror_mode": {
    "name": "ipython",
    "version": 3
   },
   "file_extension": ".py",
   "mimetype": "text/x-python",
   "name": "python",
   "nbconvert_exporter": "python",
   "pygments_lexer": "ipython3",
   "version": "3.8.10"
  },
  "orig_nbformat": 4
 },
 "nbformat": 4,
 "nbformat_minor": 2
}
