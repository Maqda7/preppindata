{
 "cells": [
  {
   "cell_type": "code",
   "execution_count": 73,
   "metadata": {},
   "outputs": [],
   "source": [
    "import pandas as pd"
   ]
  },
  {
   "cell_type": "code",
   "execution_count": 74,
   "metadata": {},
   "outputs": [
    {
     "data": {
      "text/plain": [
       "\"Requirements\\n- Input the data\\n- Reshape the data so we have 5 rows for each customer, with responses for the Mobile App and Online Interface being in separate fields on the same row\\n- Clean the question categories so they don't have the platform in from of them\\n    e.g. Mobile App - Ease of Use should be simply Ease of Use\\n- Exclude the Overall Ratings, these were incorrectly calculated by the system\\n- Calculate the Average Ratings for each platform for each customer \\n- Calculate the difference in Average Rating between Mobile App and Online Interface for each customer\\n- Catergorise customers as being:\\n        Mobile App Superfans if the difference is greater than or equal to 2 in the Mobile App's favour\\n        Mobile App Fans if difference >= 1\\n        Online Interface Fan\\n        Online Interface Superfan\\n        Neutral if difference is between 0 and 1\\n- Calculate the Percent of Total customers in each category, rounded to 1 decimal place\\n\\nOutput the data\\n\""
      ]
     },
     "execution_count": 74,
     "metadata": {},
     "output_type": "execute_result"
    }
   ],
   "source": [
    "\"\"\"Requirements\n",
    "- Input the data\n",
    "- Reshape the data so we have 5 rows for each customer, with responses for the Mobile App and Online Interface being in separate fields on the same row\n",
    "- Clean the question categories so they don't have the platform in from of them\n",
    "    e.g. Mobile App - Ease of Use should be simply Ease of Use\n",
    "- Exclude the Overall Ratings, these were incorrectly calculated by the system\n",
    "- Calculate the Average Ratings for each platform for each customer \n",
    "- Calculate the difference in Average Rating between Mobile App and Online Interface for each customer\n",
    "- Catergorise customers as being:\n",
    "        Mobile App Superfans if the difference is greater than or equal to 2 in the Mobile App's favour\n",
    "        Mobile App Fans if difference >= 1\n",
    "        Online Interface Fan\n",
    "        Online Interface Superfan\n",
    "        Neutral if difference is between 0 and 1\n",
    "- Calculate the Percent of Total customers in each category, rounded to 1 decimal place\n",
    "\n",
    "Output the data\n",
    "\"\"\""
   ]
  },
  {
   "cell_type": "code",
   "execution_count": 75,
   "metadata": {},
   "outputs": [],
   "source": [
    "df = pd.read_csv('DSB Customer Survery.csv')"
   ]
  },
  {
   "cell_type": "code",
   "execution_count": 76,
   "metadata": {},
   "outputs": [
    {
     "data": {
      "text/html": [
       "<div>\n",
       "<style scoped>\n",
       "    .dataframe tbody tr th:only-of-type {\n",
       "        vertical-align: middle;\n",
       "    }\n",
       "\n",
       "    .dataframe tbody tr th {\n",
       "        vertical-align: top;\n",
       "    }\n",
       "\n",
       "    .dataframe thead th {\n",
       "        text-align: right;\n",
       "    }\n",
       "</style>\n",
       "<table border=\"1\" class=\"dataframe\">\n",
       "  <thead>\n",
       "    <tr style=\"text-align: right;\">\n",
       "      <th></th>\n",
       "      <th>Customer ID</th>\n",
       "      <th>Questions</th>\n",
       "      <th>Response</th>\n",
       "    </tr>\n",
       "  </thead>\n",
       "  <tbody>\n",
       "    <tr>\n",
       "      <th>0</th>\n",
       "      <td>535084</td>\n",
       "      <td>Mobile App - Ease of Use</td>\n",
       "      <td>2</td>\n",
       "    </tr>\n",
       "    <tr>\n",
       "      <th>1</th>\n",
       "      <td>250892</td>\n",
       "      <td>Mobile App - Ease of Use</td>\n",
       "      <td>3</td>\n",
       "    </tr>\n",
       "    <tr>\n",
       "      <th>2</th>\n",
       "      <td>544191</td>\n",
       "      <td>Mobile App - Ease of Use</td>\n",
       "      <td>5</td>\n",
       "    </tr>\n",
       "    <tr>\n",
       "      <th>3</th>\n",
       "      <td>949343</td>\n",
       "      <td>Mobile App - Ease of Use</td>\n",
       "      <td>2</td>\n",
       "    </tr>\n",
       "    <tr>\n",
       "      <th>4</th>\n",
       "      <td>915305</td>\n",
       "      <td>Mobile App - Ease of Use</td>\n",
       "      <td>3</td>\n",
       "    </tr>\n",
       "    <tr>\n",
       "      <th>...</th>\n",
       "      <td>...</td>\n",
       "      <td>...</td>\n",
       "      <td>...</td>\n",
       "    </tr>\n",
       "    <tr>\n",
       "      <th>7675</th>\n",
       "      <td>374015</td>\n",
       "      <td>Online Interface - Overall Rating</td>\n",
       "      <td>1</td>\n",
       "    </tr>\n",
       "    <tr>\n",
       "      <th>7676</th>\n",
       "      <td>144922</td>\n",
       "      <td>Online Interface - Overall Rating</td>\n",
       "      <td>3</td>\n",
       "    </tr>\n",
       "    <tr>\n",
       "      <th>7677</th>\n",
       "      <td>421323</td>\n",
       "      <td>Online Interface - Overall Rating</td>\n",
       "      <td>2</td>\n",
       "    </tr>\n",
       "    <tr>\n",
       "      <th>7678</th>\n",
       "      <td>707580</td>\n",
       "      <td>Online Interface - Overall Rating</td>\n",
       "      <td>1</td>\n",
       "    </tr>\n",
       "    <tr>\n",
       "      <th>7679</th>\n",
       "      <td>123417</td>\n",
       "      <td>Online Interface - Overall Rating</td>\n",
       "      <td>5</td>\n",
       "    </tr>\n",
       "  </tbody>\n",
       "</table>\n",
       "<p>7680 rows × 3 columns</p>\n",
       "</div>"
      ],
      "text/plain": [
       "      Customer ID                          Questions  Response\n",
       "0          535084           Mobile App - Ease of Use         2\n",
       "1          250892           Mobile App - Ease of Use         3\n",
       "2          544191           Mobile App - Ease of Use         5\n",
       "3          949343           Mobile App - Ease of Use         2\n",
       "4          915305           Mobile App - Ease of Use         3\n",
       "...           ...                                ...       ...\n",
       "7675       374015  Online Interface - Overall Rating         1\n",
       "7676       144922  Online Interface - Overall Rating         3\n",
       "7677       421323  Online Interface - Overall Rating         2\n",
       "7678       707580  Online Interface - Overall Rating         1\n",
       "7679       123417  Online Interface - Overall Rating         5\n",
       "\n",
       "[7680 rows x 3 columns]"
      ]
     },
     "execution_count": 76,
     "metadata": {},
     "output_type": "execute_result"
    }
   ],
   "source": [
    "#Reshape the data\n",
    "df = pd.melt(df, id_vars='Customer ID', var_name='Questions', value_name='Response' )\n",
    "df"
   ]
  },
  {
   "cell_type": "code",
   "execution_count": 77,
   "metadata": {},
   "outputs": [],
   "source": [
    "#Clean the question categories\n",
    "df[['Platform', \"Questions\"]] = df['Questions'].str.split('-', n=1, expand= True)"
   ]
  },
  {
   "cell_type": "code",
   "execution_count": 78,
   "metadata": {},
   "outputs": [],
   "source": [
    "#Exclude the Overall Ratings\n",
    "df =df[df['Questions'] != ' Overall Rating']"
   ]
  },
  {
   "cell_type": "code",
   "execution_count": 79,
   "metadata": {},
   "outputs": [
    {
     "data": {
      "text/html": [
       "<div>\n",
       "<style scoped>\n",
       "    .dataframe tbody tr th:only-of-type {\n",
       "        vertical-align: middle;\n",
       "    }\n",
       "\n",
       "    .dataframe tbody tr th {\n",
       "        vertical-align: top;\n",
       "    }\n",
       "\n",
       "    .dataframe thead th {\n",
       "        text-align: right;\n",
       "    }\n",
       "</style>\n",
       "<table border=\"1\" class=\"dataframe\">\n",
       "  <thead>\n",
       "    <tr style=\"text-align: right;\">\n",
       "      <th>Platform</th>\n",
       "      <th>Customer ID</th>\n",
       "      <th>Mobile App</th>\n",
       "      <th>Online Interface</th>\n",
       "    </tr>\n",
       "  </thead>\n",
       "  <tbody>\n",
       "    <tr>\n",
       "      <th>0</th>\n",
       "      <td>101646</td>\n",
       "      <td>3.50</td>\n",
       "      <td>3.25</td>\n",
       "    </tr>\n",
       "    <tr>\n",
       "      <th>1</th>\n",
       "      <td>101650</td>\n",
       "      <td>2.25</td>\n",
       "      <td>3.00</td>\n",
       "    </tr>\n",
       "    <tr>\n",
       "      <th>2</th>\n",
       "      <td>105088</td>\n",
       "      <td>3.50</td>\n",
       "      <td>4.25</td>\n",
       "    </tr>\n",
       "    <tr>\n",
       "      <th>3</th>\n",
       "      <td>109306</td>\n",
       "      <td>2.00</td>\n",
       "      <td>2.00</td>\n",
       "    </tr>\n",
       "    <tr>\n",
       "      <th>4</th>\n",
       "      <td>110719</td>\n",
       "      <td>3.00</td>\n",
       "      <td>3.50</td>\n",
       "    </tr>\n",
       "    <tr>\n",
       "      <th>...</th>\n",
       "      <td>...</td>\n",
       "      <td>...</td>\n",
       "      <td>...</td>\n",
       "    </tr>\n",
       "    <tr>\n",
       "      <th>763</th>\n",
       "      <td>994742</td>\n",
       "      <td>3.00</td>\n",
       "      <td>3.50</td>\n",
       "    </tr>\n",
       "    <tr>\n",
       "      <th>764</th>\n",
       "      <td>996508</td>\n",
       "      <td>2.50</td>\n",
       "      <td>3.00</td>\n",
       "    </tr>\n",
       "    <tr>\n",
       "      <th>765</th>\n",
       "      <td>997785</td>\n",
       "      <td>3.75</td>\n",
       "      <td>3.00</td>\n",
       "    </tr>\n",
       "    <tr>\n",
       "      <th>766</th>\n",
       "      <td>997926</td>\n",
       "      <td>3.50</td>\n",
       "      <td>3.75</td>\n",
       "    </tr>\n",
       "    <tr>\n",
       "      <th>767</th>\n",
       "      <td>998229</td>\n",
       "      <td>4.00</td>\n",
       "      <td>3.75</td>\n",
       "    </tr>\n",
       "  </tbody>\n",
       "</table>\n",
       "<p>768 rows × 3 columns</p>\n",
       "</div>"
      ],
      "text/plain": [
       "Platform  Customer ID  Mobile App   Online Interface \n",
       "0              101646         3.50               3.25\n",
       "1              101650         2.25               3.00\n",
       "2              105088         3.50               4.25\n",
       "3              109306         2.00               2.00\n",
       "4              110719         3.00               3.50\n",
       "..                ...          ...                ...\n",
       "763            994742         3.00               3.50\n",
       "764            996508         2.50               3.00\n",
       "765            997785         3.75               3.00\n",
       "766            997926         3.50               3.75\n",
       "767            998229         4.00               3.75\n",
       "\n",
       "[768 rows x 3 columns]"
      ]
     },
     "execution_count": 79,
     "metadata": {},
     "output_type": "execute_result"
    }
   ],
   "source": [
    "#calculate the Average Ratings for each platform for each customer and reshape the data\n",
    "df2 = df.groupby(['Customer ID', 'Platform'])['Response'].mean().reset_index()\n",
    "df2 = pd.pivot(df2, index = 'Customer ID', columns = 'Platform', values = 'Response').reset_index()\n",
    "df2"
   ]
  },
  {
   "cell_type": "code",
   "execution_count": 80,
   "metadata": {},
   "outputs": [],
   "source": [
    "#Calculate difference in average response\n",
    "df2['Difference'] = df2['Mobile App '] - df2['Online Interface ']"
   ]
  },
  {
   "cell_type": "code",
   "execution_count": 81,
   "metadata": {},
   "outputs": [],
   "source": [
    "#Categorize by preference\n",
    "def func(df):\n",
    "    if df['Difference'] >=2: \n",
    "        return 'Mobile App SuperFan'\n",
    "    elif df['Difference'] >= 1 :\n",
    "        return 'Mobile App Fan'\n",
    "    elif df['Difference'] > -1 and df['Difference'] < 1: \n",
    "        return 'Neutral'\n",
    "    elif df['Difference'] >= -2 and df['Difference'] < -1: \n",
    "        return 'Online Interface Fan'\n",
    "    else:\n",
    "        return 'Online Interface Super Fan'\n",
    "\n",
    "df2['Perference'] = df2.apply(func, axis='columns')"
   ]
  },
  {
   "cell_type": "code",
   "execution_count": 82,
   "metadata": {},
   "outputs": [],
   "source": [
    "#Get the output using value_counts\n",
    "output = (df2['Perference'].value_counts(normalize=True).mul(100).round(1).astype(str) + '%').to_frame()"
   ]
  },
  {
   "cell_type": "code",
   "execution_count": 83,
   "metadata": {},
   "outputs": [
    {
     "data": {
      "text/html": [
       "<div>\n",
       "<style scoped>\n",
       "    .dataframe tbody tr th:only-of-type {\n",
       "        vertical-align: middle;\n",
       "    }\n",
       "\n",
       "    .dataframe tbody tr th {\n",
       "        vertical-align: top;\n",
       "    }\n",
       "\n",
       "    .dataframe thead th {\n",
       "        text-align: right;\n",
       "    }\n",
       "</style>\n",
       "<table border=\"1\" class=\"dataframe\">\n",
       "  <thead>\n",
       "    <tr style=\"text-align: right;\">\n",
       "      <th></th>\n",
       "      <th>Perference</th>\n",
       "    </tr>\n",
       "  </thead>\n",
       "  <tbody>\n",
       "    <tr>\n",
       "      <th>Neutral</th>\n",
       "      <td>63.7%</td>\n",
       "    </tr>\n",
       "    <tr>\n",
       "      <th>Mobile App Fan</th>\n",
       "      <td>16.4%</td>\n",
       "    </tr>\n",
       "    <tr>\n",
       "      <th>Online Interface Fan</th>\n",
       "      <td>10.7%</td>\n",
       "    </tr>\n",
       "    <tr>\n",
       "      <th>Online Interface Super Fan</th>\n",
       "      <td>6.6%</td>\n",
       "    </tr>\n",
       "    <tr>\n",
       "      <th>Mobile App SuperFan</th>\n",
       "      <td>2.6%</td>\n",
       "    </tr>\n",
       "  </tbody>\n",
       "</table>\n",
       "</div>"
      ],
      "text/plain": [
       "                           Perference\n",
       "Neutral                         63.7%\n",
       "Mobile App Fan                  16.4%\n",
       "Online Interface Fan            10.7%\n",
       "Online Interface Super Fan       6.6%\n",
       "Mobile App SuperFan              2.6%"
      ]
     },
     "execution_count": 83,
     "metadata": {},
     "output_type": "execute_result"
    }
   ],
   "source": [
    "output"
   ]
  },
  {
   "cell_type": "code",
   "execution_count": null,
   "metadata": {},
   "outputs": [],
   "source": []
  }
 ],
 "metadata": {
  "kernelspec": {
   "display_name": "Python 3",
   "language": "python",
   "name": "python3"
  },
  "language_info": {
   "codemirror_mode": {
    "name": "ipython",
    "version": 3
   },
   "file_extension": ".py",
   "mimetype": "text/x-python",
   "name": "python",
   "nbconvert_exporter": "python",
   "pygments_lexer": "ipython3",
   "version": "3.8.10"
  },
  "orig_nbformat": 4
 },
 "nbformat": 4,
 "nbformat_minor": 2
}
